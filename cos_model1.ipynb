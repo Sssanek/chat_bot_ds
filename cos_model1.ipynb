{
 "cells": [
  {
   "cell_type": "markdown",
   "metadata": {},
   "source": [
    "# косинусная модель"
   ]
  },
  {
   "cell_type": "markdown",
   "metadata": {},
   "source": [
    "### считаем данные"
   ]
  },
  {
   "cell_type": "code",
   "execution_count": 21,
   "metadata": {},
   "outputs": [],
   "source": [
    "import pandas as pd\n",
    "import re\n",
    "from sklearn.feature_extraction.text import CountVectorizer\n",
    "from sklearn.metrics.pairwise import cosine_similarity\n",
    "import pymorphy2\n",
    "import numpy as np"
   ]
  },
  {
   "cell_type": "code",
   "execution_count": 15,
   "metadata": {},
   "outputs": [],
   "source": [
    "# data and functions declared with bot launch\n",
    "df = pd.read_excel('answers_clear.xls').drop('Unnamed: 0', axis=1)\n",
    "morph = pymorphy2.MorphAnalyzer()\n",
    "count = CountVectorizer()\n",
    "sample_transformed = count.fit_transform(df['вопрос'])\n",
    "with open('stop_words.txt','r') as inFile:\n",
    "    stop_list = set(inFile.read().split())\n",
    "    \n",
    "def preprocessing(message):\n",
    "    '''\n",
    "    Extracting russian terms, normalizing them and erasing stop-words\n",
    "    '''\n",
    "    russian_terms =  re.findall(r'[а-яА-Яё]+', message)\n",
    "    normalized_terms = list(map(lambda x: morph.parse(x)[0].normal_form, russian_terms))\n",
    "    return ' '.join([term for term in normalized_terms if term not in stop_list])"
   ]
  },
  {
   "cell_type": "code",
   "execution_count": 26,
   "metadata": {},
   "outputs": [],
   "source": [
    "def get_best_three(question, n=3, vect_sample=sample_transformed, vectorizer=count, df=df):\n",
    "    vect_quest = vectorizer.transform([preprocessing(question)])\n",
    "    cosine_similarities = cosine_similarity(vect_quest, vect_sample).flatten()\n",
    "    indices = (-cosine_similarities).argsort()[:n]    \n",
    "    for ans in df.iloc[list(indices), 2:].values:\n",
    "        yield ans"
   ]
  },
  {
   "cell_type": "code",
   "execution_count": 33,
   "metadata": {},
   "outputs": [],
   "source": [
    "ans = get_best_three('как оформить разовый пропуск для мамы')"
   ]
  },
  {
   "cell_type": "code",
   "execution_count": 34,
   "metadata": {},
   "outputs": [
    {
     "data": {
      "text/plain": [
       "array(['Оформить разовый пропуск можно предварительно заполнив форму',\n",
       "       'https://docs.google.com/forms/d/e/1FAIpQLSdrcGv0ujVO9cHxP9zFggi9wSlLukUmM3G9PmSCxJyYam-ynA/viewform',\n",
       "       'форму'], dtype=object)"
      ]
     },
     "execution_count": 34,
     "metadata": {},
     "output_type": "execute_result"
    }
   ],
   "source": [
    "next(ans)"
   ]
  },
  {
   "cell_type": "code",
   "execution_count": 35,
   "metadata": {},
   "outputs": [],
   "source": [
    "ans = get_best_three('какой адрес учебного офиса')"
   ]
  },
  {
   "cell_type": "code",
   "execution_count": 36,
   "metadata": {},
   "outputs": [
    {
     "data": {
      "text/plain": [
       "array(['адрес учебного офиса', '123458, г. Москва, ул. Таллинская, д.34',\n",
       "       nan], dtype=object)"
      ]
     },
     "execution_count": 36,
     "metadata": {},
     "output_type": "execute_result"
    }
   ],
   "source": [
    "next(ans)"
   ]
  },
  {
   "cell_type": "code",
   "execution_count": null,
   "metadata": {},
   "outputs": [],
   "source": []
  }
 ],
 "metadata": {
  "kernelspec": {
   "display_name": "Python 3 (ipykernel)",
   "language": "python",
   "name": "python3"
  },
  "language_info": {
   "codemirror_mode": {
    "name": "ipython",
    "version": 3
   },
   "file_extension": ".py",
   "mimetype": "text/x-python",
   "name": "python",
   "nbconvert_exporter": "python",
   "pygments_lexer": "ipython3",
   "version": "3.9.7"
  }
 },
 "nbformat": 4,
 "nbformat_minor": 4
}

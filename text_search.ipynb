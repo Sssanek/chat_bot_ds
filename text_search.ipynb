{
 "cells": [
  {
   "cell_type": "code",
   "execution_count": 3,
   "id": "eb8d57de",
   "metadata": {},
   "outputs": [],
   "source": [
    "import pandas as pd\n",
    "import re\n",
    "import pymorphy2"
   ]
  },
  {
   "cell_type": "code",
   "execution_count": 4,
   "id": "b27bcf37",
   "metadata": {},
   "outputs": [],
   "source": [
    "# data and functions declared with bot launch\n",
    "def get_words_index(df):\n",
    "    '''\n",
    "    Returns dict in which keys are terms and values are indexes of questions that contain this term\n",
    "    '''\n",
    "    term_dict = set(' '.join(df['вопрос'].values).split())\n",
    "    rows = df['вопрос'].apply(lambda x: set(x.split()))\n",
    "    indexes = dict()\n",
    "    for term in term_dict:\n",
    "        term_index = []\n",
    "        for index, row in enumerate(rows):\n",
    "            if term in row:\n",
    "                term_index.append(index)\n",
    "        indexes[term] = term_index\n",
    "    return indexes\n",
    "\n",
    "morph = pymorphy2.MorphAnalyzer()\n",
    "df = pd.read_excel('answers_clear.xls').drop('Unnamed: 0', axis=1)\n",
    "indexes = get_words_index(df)"
   ]
  },
  {
   "cell_type": "code",
   "execution_count": 52,
   "id": "140fc5c2",
   "metadata": {},
   "outputs": [],
   "source": [
    "def get_answer(message, df=df, indexes=indexes):\n",
    "    russian_terms =  re.findall(r'[а-яА-Яё]+', message)\n",
    "    normalized_terms = list(map(lambda x: morph.parse(x)[0].normal_form, russian_terms))\n",
    "    found_terms = [term for term in normalized_terms if term in indexes]\n",
    "    terms_index = sorted(list(map(lambda x: set(indexes[x]), found_terms)), key=len, reverse=True)\n",
    "    result = terms_index[0]\n",
    "    for index_set in terms_index[1:]:\n",
    "        intermediate_res = result & index_set\n",
    "        if intermediate_res:\n",
    "            result = intermediate_res\n",
    "        else:\n",
    "            for ans in df.iloc[list(result), 2:].values:\n",
    "                yield ans\n",
    "    if intermediate_res:\n",
    "        for ans in df.iloc[list(result), 2:].values:\n",
    "            yield ans"
   ]
  },
  {
   "cell_type": "code",
   "execution_count": 65,
   "id": "905163b9",
   "metadata": {},
   "outputs": [],
   "source": [
    "ans = get_answer('зачем нужен разовый пропуск')"
   ]
  },
  {
   "cell_type": "code",
   "execution_count": 66,
   "id": "134a7a0a",
   "metadata": {},
   "outputs": [
    {
     "data": {
      "text/plain": [
       "array(['Оформить разовый пропуск можно предварительно заполнив форму',\n",
       "       'https://docs.google.com/forms/d/e/1FAIpQLSdrcGv0ujVO9cHxP9zFggi9wSlLukUmM3G9PmSCxJyYam-ynA/viewform',\n",
       "       'форму'], dtype=object)"
      ]
     },
     "execution_count": 66,
     "metadata": {},
     "output_type": "execute_result"
    }
   ],
   "source": [
    "next(ans)"
   ]
  },
  {
   "cell_type": "code",
   "execution_count": 59,
   "id": "9a63deb0",
   "metadata": {},
   "outputs": [
    {
     "name": "stdout",
     "output_type": "stream",
     "text": [
      "<generator object get_answer at 0x0000019475323C80>\n"
     ]
    }
   ],
   "source": [
    "print(get_answer('где написать завяление о восстановлении'))"
   ]
  },
  {
   "cell_type": "code",
   "execution_count": 67,
   "id": "7ea65588",
   "metadata": {},
   "outputs": [
    {
     "name": "stdout",
     "output_type": "stream",
     "text": [
      "<generator object get_answer at 0x000001947531B2E0>\n"
     ]
    }
   ],
   "source": [
    "print(get_answer('зачем нужен разовый пропуск'))"
   ]
  },
  {
   "cell_type": "code",
   "execution_count": 68,
   "id": "5d41d2ae",
   "metadata": {
    "scrolled": true
   },
   "outputs": [
    {
     "name": "stdout",
     "output_type": "stream",
     "text": [
      "<generator object get_answer at 0x0000019474ACA040>\n"
     ]
    }
   ],
   "source": [
    "print(get_answer('как оформить последипломные каникулы'))"
   ]
  },
  {
   "cell_type": "code",
   "execution_count": null,
   "id": "411c8d2a",
   "metadata": {},
   "outputs": [],
   "source": []
  }
 ],
 "metadata": {
  "kernelspec": {
   "display_name": "Python 3 (ipykernel)",
   "language": "python",
   "name": "python3"
  },
  "language_info": {
   "codemirror_mode": {
    "name": "ipython",
    "version": 3
   },
   "file_extension": ".py",
   "mimetype": "text/x-python",
   "name": "python",
   "nbconvert_exporter": "python",
   "pygments_lexer": "ipython3",
   "version": "3.9.7"
  }
 },
 "nbformat": 4,
 "nbformat_minor": 5
}
